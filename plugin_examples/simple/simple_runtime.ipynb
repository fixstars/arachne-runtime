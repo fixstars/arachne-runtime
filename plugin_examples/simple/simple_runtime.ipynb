{
 "cells": [
  {
   "cell_type": "code",
   "execution_count": 1,
   "metadata": {},
   "outputs": [
    {
     "name": "stdout",
     "output_type": "stream",
     "text": [
      "['onnx', 'tflite', 'tvm', 'rpc', 'simple']\n",
      "LOG: __init__ at SimpleRuntimeModule\n",
      "LOG: __init__ at SimpleRuntimeModule\n",
      "LOG: set_input at SimpleRuntimeModule\n",
      "LOG: run at SimpleRuntimeModule\n",
      "LOG: get_output at SimpleRuntimeModule\n"
     ]
    }
   ],
   "source": [
    "import arachne_runtime as art\n",
    "import simple_runtime\n",
    "import numpy as np\n",
    "\n",
    "from arachne_runtime.module.factory import RuntimeModuleFactory\n",
    "\n",
    "print(RuntimeModuleFactory.list())\n",
    "\n",
    "r = art.init(runtime=\"simple\", model_file=\"dummy_model.txt\")\n",
    "r.done()\n",
    "\n",
    "with art.init(runtime=\"simple\", model_file=\"dummy_model.txt\") as mod:\n",
    "    mod.set_input(idx=0, value=np.array([]))\n",
    "    mod.run()\n",
    "    mod.get_output(idx=0)"
   ]
  }
 ],
 "metadata": {
  "kernelspec": {
   "display_name": "Python 3.6.9 ('.venv': poetry)",
   "language": "python",
   "name": "python3"
  },
  "language_info": {
   "codemirror_mode": {
    "name": "ipython",
    "version": 3
   },
   "file_extension": ".py",
   "mimetype": "text/x-python",
   "name": "python",
   "nbconvert_exporter": "python",
   "pygments_lexer": "ipython3",
   "version": "3.6.9"
  },
  "orig_nbformat": 4,
  "vscode": {
   "interpreter": {
    "hash": "d5f482664257119cba170e4d5f105714b0f0a013c96ba016566dd7eedd0da236"
   }
  }
 },
 "nbformat": 4,
 "nbformat_minor": 2
}
