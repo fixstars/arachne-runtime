{
 "cells": [
  {
   "cell_type": "code",
   "execution_count": 1,
   "metadata": {},
   "outputs": [
    {
     "name": "stdout",
     "output_type": "stream",
     "text": [
      "['onnx', 'tflite', 'tvm', 'rpc', 'cpp']\n"
     ]
    }
   ],
   "source": [
    "import arachne_runtime as art\n",
    "import cpp_runtime\n",
    "import numpy as np\n",
    "\n",
    "from arachne_runtime.module.factory import RuntimeModuleFactory\n",
    "\n",
    "print(RuntimeModuleFactory.list())\n"
   ]
  },
  {
   "cell_type": "code",
   "execution_count": 2,
   "metadata": {},
   "outputs": [
    {
     "name": "stdout",
     "output_type": "stream",
     "text": [
      "LOG: __init__ at CppRuntimeModule\n",
      "CppRuntime::Init 0\n",
      "LOG: set_input at CppRuntimeModule\n",
      "CppRuntime::SetInput 0\n",
      "LOG: run at CppRuntimeModule\n",
      "CppRuntime::Run 0\n",
      "LOG: get_output at CppRuntimeModule\n",
      "CppRuntime::GetOutput 0\n",
      "CppRuntime::Done 0\n"
     ]
    }
   ],
   "source": [
    "r = art.init(runtime=\"cpp\", model_file=\"dummy_model.txt\")\n",
    "r.set_input(idx=0, value=np.array([]))\n",
    "r.run()\n",
    "r.get_output(idx=0)\n",
    "r.done()"
   ]
  },
  {
   "cell_type": "code",
   "execution_count": 3,
   "metadata": {},
   "outputs": [
    {
     "name": "stdout",
     "output_type": "stream",
     "text": [
      "LOG: __init__ at CppRuntimeModule\n",
      "CppRuntime::Init 1\n",
      "LOG: set_input at CppRuntimeModule\n",
      "CppRuntime::SetInput 1\n",
      "LOG: run at CppRuntimeModule\n",
      "CppRuntime::Run 1\n",
      "LOG: get_output at CppRuntimeModule\n",
      "CppRuntime::GetOutput 1\n",
      "CppRuntime::Done 1\n",
      "LOG: __init__ at CppRuntimeModule\n",
      "CppRuntime::Init 2\n",
      "CppRuntime::Delete 1\n",
      "LOG: set_input at CppRuntimeModule\n",
      "CppRuntime::SetInput 2\n",
      "LOG: run at CppRuntimeModule\n",
      "CppRuntime::Run 2\n",
      "LOG: get_output at CppRuntimeModule\n",
      "CppRuntime::GetOutput 2\n",
      "CppRuntime::Done 2\n"
     ]
    }
   ],
   "source": [
    "for _ in range(0, 2):\n",
    "    with art.init(runtime=\"cpp\", model_file=\"dummy_model.txt\") as mod:\n",
    "        mod.set_input(idx=0, value=np.array([]))\n",
    "        mod.run()\n",
    "        mod.get_output(idx=0)"
   ]
  }
 ],
 "metadata": {
  "kernelspec": {
   "display_name": "Python 3.6.9 ('.venv': poetry)",
   "language": "python",
   "name": "python3"
  },
  "language_info": {
   "codemirror_mode": {
    "name": "ipython",
    "version": 3
   },
   "file_extension": ".py",
   "mimetype": "text/x-python",
   "name": "python",
   "nbconvert_exporter": "python",
   "pygments_lexer": "ipython3",
   "version": "3.6.9"
  },
  "orig_nbformat": 4,
  "vscode": {
   "interpreter": {
    "hash": "d5f482664257119cba170e4d5f105714b0f0a013c96ba016566dd7eedd0da236"
   }
  }
 },
 "nbformat": 4,
 "nbformat_minor": 2
}
